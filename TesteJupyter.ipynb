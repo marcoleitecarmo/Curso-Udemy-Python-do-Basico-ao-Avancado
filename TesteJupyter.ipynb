{
 "cells": [
  {
   "cell_type": "code",
   "execution_count": 2,
   "metadata": {},
   "outputs": [
    {
     "name": "stdout",
     "output_type": "stream",
     "text": [
      "15\n"
     ]
    }
   ],
   "source": [
    "from functools import reduce\n",
    "lista = [1, 2, 3, 4, 5]\n",
    "somaLista = reduce(lambda ac, i: i + ac, lista, 0)\n",
    "print(somaLista)"
   ]
  },
  {
   "cell_type": "code",
   "execution_count": 7,
   "metadata": {},
   "outputs": [
    {
     "name": "stdout",
     "output_type": "stream",
     "text": [
      "Cassia Cassia Cassia Cassia Cassia Cassia Cassia Cassia Cassia Cassia "
     ]
    }
   ],
   "source": [
    "from random import randint as rdi\n",
    "\n",
    "def rdi(*args):\n",
    "    return 'Cassia'\n",
    "\n",
    "for i in range(10):\n",
    "    print(rdi(0, 10), end=' ')"
   ]
  },
  {
   "cell_type": "code",
   "execution_count": null,
   "metadata": {},
   "outputs": [],
   "source": []
  }
 ],
 "metadata": {
  "kernelspec": {
   "display_name": "Python 3.10.5 64-bit",
   "language": "python",
   "name": "python3"
  },
  "language_info": {
   "codemirror_mode": {
    "name": "ipython",
    "version": 3
   },
   "file_extension": ".py",
   "mimetype": "text/x-python",
   "name": "python",
   "nbconvert_exporter": "python",
   "pygments_lexer": "ipython3",
   "version": "3.10.5"
  },
  "vscode": {
   "interpreter": {
    "hash": "ba18286d27dd3f1705df4025c31d2b7021c67fcd01f023a6f194ed0db21ec453"
   }
  }
 },
 "nbformat": 4,
 "nbformat_minor": 2
}
